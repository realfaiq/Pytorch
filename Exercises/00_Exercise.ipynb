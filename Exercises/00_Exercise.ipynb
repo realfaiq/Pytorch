{
  "nbformat": 4,
  "nbformat_minor": 0,
  "metadata": {
    "colab": {
      "provenance": []
    },
    "kernelspec": {
      "name": "python3",
      "display_name": "Python 3"
    },
    "language_info": {
      "name": "python"
    }
  },
  "cells": [
    {
      "cell_type": "code",
      "execution_count": null,
      "metadata": {
        "id": "iU1R4HGsIDlQ"
      },
      "outputs": [],
      "source": [
        "import torch"
      ]
    },
    {
      "cell_type": "markdown",
      "source": [
        "## Create a random tensor with shape (7,7)"
      ],
      "metadata": {
        "id": "ZjzrwFxUKzh_"
      }
    },
    {
      "cell_type": "code",
      "source": [
        "tensor = torch.rand(7,7)\n",
        "tensor"
      ],
      "metadata": {
        "colab": {
          "base_uri": "https://localhost:8080/"
        },
        "id": "enbcz9fOK6KF",
        "outputId": "b4653fda-f20a-478f-9b15-05822db93260"
      },
      "execution_count": null,
      "outputs": [
        {
          "output_type": "execute_result",
          "data": {
            "text/plain": [
              "tensor([[0.3597, 0.9441, 0.7150, 0.6637, 0.6438, 0.1711, 0.4366],\n",
              "        [0.4534, 0.2197, 0.2294, 0.9724, 0.2139, 0.7856, 0.4940],\n",
              "        [0.3943, 0.2098, 0.4029, 0.1547, 0.6766, 0.3427, 0.7940],\n",
              "        [0.9563, 0.1831, 0.3761, 0.9115, 0.5810, 0.3467, 0.4532],\n",
              "        [0.1597, 0.0170, 0.9896, 0.4414, 0.1447, 0.8033, 0.0644],\n",
              "        [0.4010, 0.8378, 0.5403, 0.1819, 0.1815, 0.0104, 0.4148],\n",
              "        [0.8220, 0.3563, 0.2512, 0.6388, 0.7771, 0.2726, 0.7949]])"
            ]
          },
          "metadata": {},
          "execution_count": 2
        }
      ]
    },
    {
      "cell_type": "markdown",
      "source": [
        "## Perform a matrix multiplication with the above tensor of tensor with shape(1,7)"
      ],
      "metadata": {
        "id": "T9kJZwe5K-5v"
      }
    },
    {
      "cell_type": "code",
      "source": [
        "tensor2 = torch.rand(1,7)\n",
        "tensor.shape, tensor2.shape"
      ],
      "metadata": {
        "colab": {
          "base_uri": "https://localhost:8080/"
        },
        "id": "OGpHnuElLQcH",
        "outputId": "279abefe-564e-4353-a74d-2eb3b478eab0"
      },
      "execution_count": null,
      "outputs": [
        {
          "output_type": "execute_result",
          "data": {
            "text/plain": [
              "(torch.Size([7, 7]), torch.Size([1, 7]))"
            ]
          },
          "metadata": {},
          "execution_count": 3
        }
      ]
    },
    {
      "cell_type": "code",
      "source": [
        "mult = torch.matmul(tensor, tensor2.T)\n",
        "mult, mult.shape"
      ],
      "metadata": {
        "colab": {
          "base_uri": "https://localhost:8080/"
        },
        "id": "fgF5MhwJLU8e",
        "outputId": "51a452d8-a46c-4a32-c0db-fe1ddf8c5a0d"
      },
      "execution_count": null,
      "outputs": [
        {
          "output_type": "execute_result",
          "data": {
            "text/plain": [
              "(tensor([[2.1388],\n",
              "         [1.4539],\n",
              "         [1.6272],\n",
              "         [1.8728],\n",
              "         [1.2705],\n",
              "         [1.2979],\n",
              "         [2.0165]]),\n",
              " torch.Size([7, 1]))"
            ]
          },
          "metadata": {},
          "execution_count": 4
        }
      ]
    },
    {
      "cell_type": "markdown",
      "source": [
        "## Set the random seed 0 and do the operations again"
      ],
      "metadata": {
        "id": "Et5I806QLg2e"
      }
    },
    {
      "cell_type": "code",
      "source": [
        "RANDOM_SEED = 0\n",
        "torch.manual_seed(RANDOM_SEED)\n",
        "tensor = torch.rand(7,7)\n",
        "\n",
        "torch.manual_seed(RANDOM_SEED)\n",
        "tensor2 = torch.rand(1,7)\n",
        "\n",
        "tensor.shape, tensor2.shape"
      ],
      "metadata": {
        "colab": {
          "base_uri": "https://localhost:8080/"
        },
        "id": "5eSEXklcLo4n",
        "outputId": "5da0dbcc-7f92-4db2-cc7b-a5e5baa7a3a2"
      },
      "execution_count": null,
      "outputs": [
        {
          "output_type": "execute_result",
          "data": {
            "text/plain": [
              "(torch.Size([7, 7]), torch.Size([1, 7]))"
            ]
          },
          "metadata": {},
          "execution_count": 5
        }
      ]
    },
    {
      "cell_type": "code",
      "source": [
        "mult = torch.matmul(tensor, tensor2.T)\n",
        "mult, mult.shape"
      ],
      "metadata": {
        "colab": {
          "base_uri": "https://localhost:8080/"
        },
        "id": "FuUybRBvMXTX",
        "outputId": "5d67697d-5d84-421e-b264-e338c75262e8"
      },
      "execution_count": null,
      "outputs": [
        {
          "output_type": "execute_result",
          "data": {
            "text/plain": [
              "(tensor([[1.5985],\n",
              "         [1.1173],\n",
              "         [1.2741],\n",
              "         [1.6838],\n",
              "         [0.8279],\n",
              "         [1.0347],\n",
              "         [1.2498]]),\n",
              " torch.Size([7, 1]))"
            ]
          },
          "metadata": {},
          "execution_count": 6
        }
      ]
    },
    {
      "cell_type": "markdown",
      "source": [
        "## Random seed 1234 for GPU equivalent tensor"
      ],
      "metadata": {
        "id": "m2y23hr1Mdc2"
      }
    },
    {
      "cell_type": "code",
      "source": [
        "import torch\n",
        "RANDOM_SEED = 1234\n",
        "torch.manual_seed(RANDOM_SEED)\n",
        "tensor = torch.rand(7,7, device = 'cuda')\n",
        "tensor"
      ],
      "metadata": {
        "colab": {
          "base_uri": "https://localhost:8080/"
        },
        "id": "ox1j4oYlNw_O",
        "outputId": "dec1f386-66c6-4061-9b20-560a42770052"
      },
      "execution_count": null,
      "outputs": [
        {
          "output_type": "execute_result",
          "data": {
            "text/plain": [
              "tensor([[0.1272, 0.8167, 0.5440, 0.6601, 0.2721, 0.9737, 0.3903],\n",
              "        [0.3394, 0.5451, 0.7312, 0.3864, 0.5959, 0.7578, 0.2126],\n",
              "        [0.7198, 0.9845, 0.5518, 0.0981, 0.0582, 0.5839, 0.1083],\n",
              "        [0.9461, 0.3170, 0.8328, 0.6676, 0.2886, 0.9022, 0.8115],\n",
              "        [0.1784, 0.9534, 0.1486, 0.3882, 0.7977, 0.1752, 0.5777],\n",
              "        [0.1949, 0.8499, 0.3125, 0.2156, 0.0383, 0.4934, 0.3138],\n",
              "        [0.3121, 0.5664, 0.1266, 0.7097, 0.0040, 0.5147, 0.2811]],\n",
              "       device='cuda:0')"
            ]
          },
          "metadata": {},
          "execution_count": 2
        }
      ]
    },
    {
      "cell_type": "code",
      "source": [
        "tensor.device"
      ],
      "metadata": {
        "colab": {
          "base_uri": "https://localhost:8080/"
        },
        "id": "j3XZ8nctOALb",
        "outputId": "c71de21f-b988-467b-bf19-5e53b2186419"
      },
      "execution_count": null,
      "outputs": [
        {
          "output_type": "execute_result",
          "data": {
            "text/plain": [
              "device(type='cuda', index=0)"
            ]
          },
          "metadata": {},
          "execution_count": 3
        }
      ]
    },
    {
      "cell_type": "markdown",
      "source": [
        "## Create two random tensors both using the Random seed 1234 of GPU"
      ],
      "metadata": {
        "id": "sTc2bIliOFbl"
      }
    },
    {
      "cell_type": "code",
      "source": [
        "torch.manual_seed(RANDOM_SEED)\n",
        "tensor1 = torch.rand(2,3, device = 'cuda')\n",
        "\n",
        "torch.manual_seed(RANDOM_SEED)\n",
        "tensor2 = torch.rand(2,3, device = 'cuda')\n",
        "\n",
        "tensor1.shape, tensor2.shape"
      ],
      "metadata": {
        "colab": {
          "base_uri": "https://localhost:8080/"
        },
        "id": "jz4tY31pOaZf",
        "outputId": "a9f024f7-f880-4cf9-fef7-89ce26e6d5d7"
      },
      "execution_count": null,
      "outputs": [
        {
          "output_type": "execute_result",
          "data": {
            "text/plain": [
              "(torch.Size([2, 3]), torch.Size([2, 3]))"
            ]
          },
          "metadata": {},
          "execution_count": 4
        }
      ]
    },
    {
      "cell_type": "markdown",
      "source": [
        "## Matrix Multiplication of the above two tensors"
      ],
      "metadata": {
        "id": "cNe24aeUOsIn"
      }
    },
    {
      "cell_type": "code",
      "source": [
        "mult = torch.matmul(tensor1, tensor2.T)\n",
        "mult, mult.shape"
      ],
      "metadata": {
        "colab": {
          "base_uri": "https://localhost:8080/"
        },
        "id": "UyfxPWzNO0mG",
        "outputId": "8e231d17-09c7-4f98-baa4-083e9ec12ade"
      },
      "execution_count": null,
      "outputs": [
        {
          "output_type": "execute_result",
          "data": {
            "text/plain": [
              "(tensor([[0.9792, 0.8358],\n",
              "         [0.8358, 1.4578]], device='cuda:0'),\n",
              " torch.Size([2, 2]))"
            ]
          },
          "metadata": {},
          "execution_count": 5
        }
      ]
    },
    {
      "cell_type": "markdown",
      "source": [
        "## Find the maximum and the minimum values of the output 7"
      ],
      "metadata": {
        "id": "tLSfDMiTO-jP"
      }
    },
    {
      "cell_type": "code",
      "source": [
        "print(tensor1.max())\n",
        "print(tensor1.min())\n",
        "\n",
        "print(tensor2.max())\n",
        "print(tensor2.min())"
      ],
      "metadata": {
        "colab": {
          "base_uri": "https://localhost:8080/"
        },
        "id": "AdOCaz9LPNN9",
        "outputId": "0d4ddcba-253f-490c-9d9a-d068bc036040"
      },
      "execution_count": null,
      "outputs": [
        {
          "output_type": "stream",
          "name": "stdout",
          "text": [
            "tensor(0.9737, device='cuda:0')\n",
            "tensor(0.1272, device='cuda:0')\n",
            "tensor(0.9737, device='cuda:0')\n",
            "tensor(0.1272, device='cuda:0')\n"
          ]
        }
      ]
    },
    {
      "cell_type": "markdown",
      "source": [
        "## Find the maximum and minimum index of the above tensors"
      ],
      "metadata": {
        "id": "ZC6-3LD6PWWm"
      }
    },
    {
      "cell_type": "code",
      "source": [
        "print(tensor1.argmax())\n",
        "print(tensor1.argmin())\n",
        "\n",
        "print(tensor2.argmax())\n",
        "print(tensor2.argmin())"
      ],
      "metadata": {
        "colab": {
          "base_uri": "https://localhost:8080/"
        },
        "id": "OMm92sSlPeL9",
        "outputId": "04f445ee-bf52-44c2-dd19-fe2628db82b1"
      },
      "execution_count": null,
      "outputs": [
        {
          "output_type": "stream",
          "name": "stdout",
          "text": [
            "tensor(5, device='cuda:0')\n",
            "tensor(0, device='cuda:0')\n",
            "tensor(5, device='cuda:0')\n",
            "tensor(0, device='cuda:0')\n"
          ]
        }
      ]
    },
    {
      "cell_type": "markdown",
      "source": [
        "## Create a Random tensor with shape(1,1,1,10) and then then create a new tensor with all the 1 dimensions removed to be left with a tensor of shape (10). Set the seed to 7 when you create it and print out the first tensor and it's shape as well as the second tensor and it's shape."
      ],
      "metadata": {
        "id": "QNMWXiAVPh6O"
      }
    },
    {
      "cell_type": "code",
      "source": [
        "import torch"
      ],
      "metadata": {
        "id": "vU97iLVxQQ4G"
      },
      "execution_count": null,
      "outputs": []
    },
    {
      "cell_type": "code",
      "source": [
        "tensor = torch.rand(1,1,1,10)\n",
        "tensor"
      ],
      "metadata": {
        "colab": {
          "base_uri": "https://localhost:8080/"
        },
        "id": "eF5P6gF5QTZG",
        "outputId": "93cdfddf-544f-4adc-b1cc-8f8f390f4aed"
      },
      "execution_count": null,
      "outputs": [
        {
          "output_type": "execute_result",
          "data": {
            "text/plain": [
              "tensor([[[[0.3029, 0.3976, 0.3222, 0.4301, 0.7499, 0.9180, 0.6481, 0.4109,\n",
              "           0.9707, 0.3571]]]])"
            ]
          },
          "metadata": {},
          "execution_count": 2
        }
      ]
    },
    {
      "cell_type": "code",
      "source": [
        "RANDOM_SEED = 7\n",
        "torch.manual_seed(RANDOM_SEED)\n",
        "new_tensor = tensor.squeeze()\n",
        "new_tensor"
      ],
      "metadata": {
        "colab": {
          "base_uri": "https://localhost:8080/"
        },
        "id": "PfM_yy-_QaZe",
        "outputId": "72f1e840-568f-43ff-b0eb-8f55c1b674f1"
      },
      "execution_count": null,
      "outputs": [
        {
          "output_type": "execute_result",
          "data": {
            "text/plain": [
              "tensor([0.3029, 0.3976, 0.3222, 0.4301, 0.7499, 0.9180, 0.6481, 0.4109, 0.9707,\n",
              "        0.3571])"
            ]
          },
          "metadata": {},
          "execution_count": 3
        }
      ]
    },
    {
      "cell_type": "code",
      "source": [
        "tensor, tensor.shape"
      ],
      "metadata": {
        "colab": {
          "base_uri": "https://localhost:8080/"
        },
        "id": "_T8GPRe9Qr5G",
        "outputId": "b58dcc01-fafe-493c-845f-7365ea549a1a"
      },
      "execution_count": null,
      "outputs": [
        {
          "output_type": "execute_result",
          "data": {
            "text/plain": [
              "(tensor([[[[0.3029, 0.3976, 0.3222, 0.4301, 0.7499, 0.9180, 0.6481, 0.4109,\n",
              "            0.9707, 0.3571]]]]),\n",
              " torch.Size([1, 1, 1, 10]))"
            ]
          },
          "metadata": {},
          "execution_count": 4
        }
      ]
    },
    {
      "cell_type": "code",
      "source": [
        "new_tensor, new_tensor.shape"
      ],
      "metadata": {
        "colab": {
          "base_uri": "https://localhost:8080/"
        },
        "id": "LGlOK0ycQuWW",
        "outputId": "fb225b26-5d51-4d7d-a6eb-5858beb73056"
      },
      "execution_count": null,
      "outputs": [
        {
          "output_type": "execute_result",
          "data": {
            "text/plain": [
              "(tensor([0.3029, 0.3976, 0.3222, 0.4301, 0.7499, 0.9180, 0.6481, 0.4109, 0.9707,\n",
              "         0.3571]),\n",
              " torch.Size([10]))"
            ]
          },
          "metadata": {},
          "execution_count": 5
        }
      ]
    },
    {
      "cell_type": "code",
      "source": [],
      "metadata": {
        "id": "_dxaZv4gQwiu"
      },
      "execution_count": null,
      "outputs": []
    }
  ]
}